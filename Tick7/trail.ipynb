{
 "cells": [
  {
   "cell_type": "code",
   "execution_count": 1,
   "metadata": {},
   "outputs": [
    {
     "name": "stdout",
     "output_type": "stream",
     "text": [
      "c\n"
     ]
    }
   ],
   "source": [
    "my_dict = {'a': 10, 'b': 20, 'c': 30}\n",
    "\n",
    "max_key = max(my_dict, key=lambda k: my_dict[k])\n",
    "\n",
    "print(max_key)  # Output: 'c'\n"
   ]
  },
  {
   "cell_type": "code",
   "execution_count": 1,
   "metadata": {},
   "outputs": [],
   "source": [
    "a =  ['M', 'F', 'G', 'K', 'L', 'S', 'L', 'D', 'A', 'V', 'P', 'F', 'H', 'E', 'P', 'I', 'V', 'M', 'V', 'T', 'I', 'A', 'G', 'I', 'I', 'L', 'G', 'G', 'L', 'A', 'L', 'V', 'G', 'L', 'I', 'T', 'Y', 'F', 'G', 'K', 'W', 'T', 'Y', 'L', 'W', 'K', 'E', 'W', 'L', 'T', 'S', 'V', 'D', 'H', 'K', 'R', 'L', 'G', 'I', 'M', 'Y', 'I', 'I', 'V', 'A', 'I', 'V', 'M', 'L', 'L', 'R', 'G', 'F', 'A', 'D', 'A', 'I', 'M', 'M', 'R', 'S', 'Q', 'Q', 'A', 'L', 'A', 'S', 'A', 'G', 'E', 'A', 'G', 'F', 'L', 'P', 'P', 'H', 'H', 'Y', 'D', 'Q', 'I', 'F', 'T', 'A', 'H', 'G', 'V', 'I', 'M', 'I', 'F', 'F', 'V', 'A', 'M', 'P', 'F', 'V', 'I', 'G', 'L', 'M', 'N', 'L', 'V', 'V', 'P', 'L', 'Q', 'I', 'G', 'A', 'R', 'D', 'V', 'A', 'F', 'P', 'F', 'L', 'N', 'N', 'L', 'S', 'F', 'W', 'F', 'T', 'V', 'V', 'G', 'V', 'I', 'L', 'V', 'N', 'V', 'S', 'L', 'G', 'V', 'G', 'E', 'F', 'A', 'Q', 'T', 'G', 'W', 'L', 'A', 'Y', 'P', 'P', 'L', 'S', 'G', 'I', 'E', 'Y', 'S', 'P', 'G', 'V', 'G', 'V', 'D', 'Y', 'W', 'I', 'W', 'S', 'L', 'Q', 'L', 'S', 'G', 'I', 'G', 'T', 'T', 'L', 'T', 'G', 'I', 'N', 'F', 'F', 'V', 'T', 'I', 'L', 'K', 'M', 'R', 'A', 'P', 'G', 'M', 'T', 'M', 'F', 'K', 'M', 'P', 'V', 'F', 'T', 'W', 'A', 'S', 'L', 'C', 'A', 'N', 'V', 'L', 'I', 'I', 'A', 'S', 'F', 'P', 'I', 'L', 'T', 'V', 'T', 'V', 'A', 'L', 'L', 'T', 'L', 'D', 'R', 'Y', 'L', 'G', 'T', 'H', 'F', 'F', 'T', 'N', 'D', 'M', 'G', 'G', 'N', 'M', 'M', 'M', 'Y', 'I', 'N', 'L', 'I', 'W', 'A', 'W', 'G', 'H', 'P', 'E', 'V', 'Y', 'I', 'L', 'I', 'L', 'P', 'V', 'F', 'G', 'V', 'F', 'S', 'E', 'I', 'A', 'A', 'T', 'F', 'S', 'R', 'K', 'R', 'L', 'F', 'G', 'Y', 'T', 'S', 'L', 'V', 'W', 'A', 'T', 'V', 'C', 'I', 'T', 'V', 'L', 'S', 'F', 'I', 'V', 'W', 'L', 'H', 'H', 'F', 'F', 'T', 'M', 'G', 'A', 'G', 'A', 'N', 'V', 'N', 'A', 'F', 'F', 'G', 'I', 'T', 'T', 'M', 'I', 'I', 'A', 'I', 'P', 'T', 'G', 'V', 'K', 'I', 'F', 'N', 'W', 'L', 'F', 'T', 'M', 'Y', 'Q', 'G', 'R', 'I', 'V', 'F', 'H', 'S', 'A', 'M', 'L', 'W', 'T', 'I', 'G', 'F', 'I', 'V', 'T', 'F', 'S', 'V', 'G', 'G', 'M', 'T', 'G', 'V', 'L', 'L', 'A', 'V', 'P', 'G', 'A', 'D', 'F', 'V', 'L', 'H', 'N', 'S', 'L', 'F', 'L', 'I', 'A', 'H', 'F', 'H', 'N', 'V', 'I', 'I', 'G', 'G', 'V', 'V', 'F', 'G', 'C', 'F', 'A', 'G', 'M', 'T', 'Y', 'W', 'W', 'P', 'K', 'A', 'F', 'G', 'F', 'K', 'L', 'N', 'E', 'T', 'W', 'G', 'K', 'R', 'A', 'F', 'W', 'F', 'W', 'I', 'I', 'G', 'F', 'F', 'V', 'A', 'F', 'M', 'P', 'L', 'Y', 'A', 'L', 'G', 'F', 'M', 'G', 'M', 'T', 'R', 'R', 'L', 'S', 'Q', 'Q', 'I', 'D', 'P', 'Q', 'F', 'H', 'T', 'M', 'L', 'M', 'I', 'A', 'A', 'S', 'G', 'A', 'V', 'L', 'I', 'A', 'L', 'G', 'I', 'L', 'C', 'L', 'V', 'I', 'Q', 'M', 'Y', 'V', 'S', 'I', 'R', 'D', 'R', 'D', 'Q', 'N', 'R', 'D', 'L', 'T', 'G', 'D', 'P', 'W', 'G', 'G', 'R', 'T', 'L', 'E', 'W', 'A', 'T', 'S', 'S', 'P', 'P', 'P', 'F', 'Y', 'N', 'F', 'A', 'V', 'V', 'P', 'H', 'V', 'H', 'E', 'R', 'D', 'A', 'F', 'W', 'E', 'M', 'K', 'E', 'K', 'G', 'E', 'A', 'Y', 'K', 'K', 'P', 'D', 'H', 'Y', 'E', 'E', 'I', 'H', 'M', 'P', 'K', 'N', 'S', 'G', 'A', 'G', 'I', 'V', 'I', 'A', 'A', 'F', 'S', 'T', 'I', 'F', 'G', 'F', 'A', 'M', 'I', 'W', 'H', 'I', 'W', 'W', 'L', 'A', 'I', 'V', 'G', 'F', 'A', 'G', 'M', 'I', 'I', 'T', 'W', 'I', 'V', 'K', 'S', 'F', 'D', 'E', 'D', 'V', 'D', 'Y', 'Y', 'V', 'P', 'V', 'A', 'E', 'I', 'E', 'K', 'L', 'E', 'N', 'Q', 'H', 'F', 'D', 'E', 'I', 'T', 'K', 'A', 'G', 'L', 'K', 'N', 'G', 'N'] "
   ]
  },
  {
   "cell_type": "code",
   "execution_count": 2,
   "metadata": {},
   "outputs": [
    {
     "data": {
      "text/plain": [
       "663"
      ]
     },
     "execution_count": 2,
     "metadata": {},
     "output_type": "execute_result"
    }
   ],
   "source": [
    "len(a)"
   ]
  },
  {
   "cell_type": "code",
   "execution_count": 3,
   "metadata": {},
   "outputs": [],
   "source": [
    "ans = ['i', 'i', 'i', 'i', 'i', 'i', 'i', 'i', 'i', 'i', 'i', 'i', 'i', 'i', 'i', 'M', 'M', 'M', 'M', 'M', 'M', 'M', 'M', 'M', 'M', 'M', 'M', 'M', 'M', 'M', 'M', 'M', 'M', 'M', 'M', 'M', 'M', 'M', 'M', 'i', 'i', 'i', 'i', 'i', 'i', 'i', 'i', 'i', 'i', 'i', 'i', 'i', 'i', 'i', 'i', 'i', 'M', 'M', 'M', 'M', 'M', 'M', 'M', 'M', 'M', 'M', 'M', 'M', 'M', 'M', 'i', 'i', 'i', 'i', 'i', 'i', 'i', 'i', 'i', 'i', 'i', 'i', 'i', 'i', 'i', 'i', 'i', 'i', 'i', 'i', 'i', 'i', 'i', 'i', 'i', 'i', 'i', 'i', 'i', 'i', 'i', 'M', 'M', 'M', 'M', 'M', 'M', 'M', 'M', 'M', 'M', 'M', 'M', 'M', 'M', 'M', 'M', 'M', 'M', 'M', 'M', 'M', 'M', 'M', 'M', 'M', 'M', 'M', 'M', 'M', 'M', 'M', 'M', 'M', 'M', 'M', 'M', 'M', 'M', 'M', 'M', 'M', 'M', 'M', 'M', 'M', 'M', 'M', 'M', 'M', 'M', 'M', 'M', 'M', 'M', 'M', 'M', 'M', 'M', 'M', 'M', 'M', 'M', 'M', 'M', 'M', 'M', 'M', 'M', 'M', 'M', 'M', 'M', 'M', 'M', 'M', 'M', 'M', 'M', 'M', 'M', 'M', 'M', 'M', 'M', 'M', 'M', 'M', 'M', 'M', 'M', 'M', 'M', 'M', 'M', 'M', 'M', 'M', 'M', 'M', 'M', 'M', 'M', 'M', 'M', 'M', 'M', 'M', 'M', 'M', 'M', 'M', 'M', 'M', 'M', 'M', 'M', 'M', 'M', 'M', 'M', 'M', 'M', 'M', 'M', 'M', 'M', 'M', 'M', 'M', 'M', 'M', 'M', 'M', 'M', 'M', 'M', 'M', 'M', 'M', 'M', 'M', 'M', 'M', 'M', 'M', 'M', 'M', 'M', 'M', 'M', 'M', 'M', 'M', 'M', 'M', 'M', 'M', 'M', 'M', 'M', 'M', 'M', 'M', 'M', 'M', 'M', 'M', 'M', 'M', 'M', 'M', 'M', 'M', 'M', 'M', 'M', 'M', 'M', 'M', 'M', 'M', 'M', 'M', 'M', 'M', 'M', 'M', 'M', 'M', 'M', 'M', 'M', 'M', 'M', 'M', 'M', 'M', 'i', 'i', 'i', 'i', 'i', 'i', 'i', 'i', 'i', 'i', 'i', 'M', 'M', 'M', 'M', 'M', 'M', 'M', 'M', 'M', 'M', 'M', 'M', 'M', 'M', 'M', 'M', 'M', 'M', 'M', 'M', 'M', 'M', 'M', 'M', 'M', 'M', 'M', 'M', 'M', 'M', 'M', 'M', 'M', 'M', 'M', 'M', 'M', 'M', 'M', 'M', 'M', 'M', 'M', 'M', 'M', 'M', 'M', 'M', 'M', 'M', 'M', 'M', 'M', 'M', 'M', 'M', 'M', 'M', 'M', 'M', 'M', 'M', 'M', 'M', 'M', 'M', 'M', 'M', 'M', 'M', 'M', 'M', 'M', 'M', 'M', 'M', 'M', 'M', 'M', 'M', 'M', 'M', 'M', 'M', 'M', 'M', 'M', 'M', 'M', 'M', 'M', 'M', 'M', 'M', 'M', 'M', 'M', 'M', 'M', 'M', 'M', 'M', 'M', 'M', 'M', 'M', 'M', 'M', 'M', 'M', 'M', 'M', 'M', 'M', 'M', 'M', 'M', 'M', 'M', 'M', 'M', 'M', 'M', 'M', 'M', 'M', 'M', 'M', 'M', 'M', 'M', 'i', 'i', 'i', 'i', 'i', 'i', 'i', 'i', 'i', 'i', 'i', 'i', 'i', 'i', 'i', 'M', 'M', 'M', 'M', 'M', 'M', 'M', 'M', 'M', 'M', 'M', 'M', 'M', 'M', 'M', 'M', 'M', 'M', 'M', 'M', 'M', 'M', 'M', 'M', 'i', 'i', 'i', 'i', 'i', 'i', 'i', 'i', 'i', 'i', 'i', 'i', 'i', 'i', 'M', 'M', 'M', 'M', 'M', 'M', 'M', 'M', 'M', 'M', 'M', 'M', 'M', 'M', 'M', 'M', 'M', 'M', 'M', 'M', 'M', 'M', 'M', 'M', 'M', 'M', 'M', 'i', 'i', 'i', 'i', 'i', 'i', 'i', 'i', 'i', 'i', 'i', 'i', 'i', 'i', 'i', 'i', 'i', 'i', 'i', 'i', 'i', 'i', 'i', 'i', 'i', 'i', 'i', 'i', 'i', 'i', 'i', 'i', 'i', 'i', 'i', 'i', 'i', 'i', 'i', 'i', 'i', 'i', 'i', 'i', 'i', 'i', 'i', 'i', 'i', 'i', 'i', 'i', 'i', 'i', 'i', 'i', 'i', 'i', 'i', 'i', 'i', 'i', 'i', 'i', 'i', 'i', 'i', 'i', 'i', 'M', 'M', 'M', 'M', 'M', 'M', 'M', 'M', 'M', 'M', 'M', 'M', 'M', 'M', 'M', 'M', 'M', 'M', 'M', 'M', 'M', 'M', 'M', 'M', 'M', 'M', 'M', 'M', 'M', 'M', 'M', 'M', 'M', 'M', 'M', 'M', 'M', 'M', 'o', 'o', 'o', 'o', 'o', 'o', 'o', 'o', 'o', 'o', 'o', 'o', 'o', 'o', 'o', 'o', 'o', 'o', 'o', 'o', 'o', 'o', 'o', 'o', 'o', 'o', 'o', 'o', 'o', 'o', 'o', 'o', 'o', 'o', 'o', 'o']"
   ]
  },
  {
   "cell_type": "code",
   "execution_count": 4,
   "metadata": {},
   "outputs": [
    {
     "data": {
      "text/plain": [
       "663"
      ]
     },
     "execution_count": 4,
     "metadata": {},
     "output_type": "execute_result"
    }
   ],
   "source": [
    "len(ans)"
   ]
  },
  {
   "cell_type": "code",
   "execution_count": 5,
   "metadata": {},
   "outputs": [],
   "source": [
    "truth =  ['i', 'i', 'i', 'i', 'i', 'i', 'i', 'i', 'i', 'i', 'i', 'i', 'i', 'i', 'i', 'M', 'M', 'M', 'M', 'M', 'M', 'M', 'M', 'M', 'M', 'M', 'M', 'M', 'M', 'M', 'M', 'M', 'M', 'M', 'M', 'M', 'M', 'M', 'M', 'i', 'i', 'i', 'i', 'i', 'i', 'i', 'i', 'i', 'i', 'i', 'i', 'i', 'i', 'i', 'i', 'i', 'M', 'M', 'M', 'M', 'M', 'M', 'M', 'M', 'M', 'M', 'M', 'M', 'M', 'M', 'i', 'i', 'i', 'i', 'i', 'i', 'i', 'i', 'i', 'i', 'i', 'i', 'i', 'i', 'i', 'i', 'i', 'i', 'i', 'i', 'i', 'i', 'i', 'i', 'i', 'i', 'i', 'i', 'i', 'i', 'i', 'M', 'M', 'M', 'M', 'M', 'M', 'M', 'M', 'M', 'M', 'M', 'M', 'M', 'M', 'M', 'M', 'M', 'M', 'M', 'M', 'M', 'M', 'M', 'M', 'M', 'M', 'M', 'M', 'M', 'M', 'M', 'M', 'M', 'M', 'M', 'M', 'M', 'M', 'M', 'M', 'M', 'M', 'M', 'M', 'M', 'M', 'M', 'M', 'M', 'M', 'M', 'M', 'M', 'M', 'M', 'M', 'M', 'M', 'M', 'M', 'M', 'M', 'M', 'M', 'M', 'M', 'M', 'M', 'M', 'M', 'M', 'M', 'M', 'M', 'M', 'M', 'M', 'M', 'M', 'M', 'M', 'M', 'M', 'M', 'M', 'M', 'M', 'M', 'M', 'M', 'M', 'M', 'M', 'M', 'M', 'M', 'M', 'M', 'M', 'M', 'M', 'M', 'M', 'M', 'M', 'M', 'M', 'M', 'M', 'M', 'M', 'M', 'M', 'M', 'M', 'M', 'M', 'M', 'M', 'M', 'M', 'M', 'M', 'M', 'M', 'M', 'M', 'M', 'M', 'M', 'M', 'M', 'M', 'M', 'M', 'M', 'M', 'M', 'M', 'M', 'M', 'M', 'M', 'M', 'M', 'M', 'M', 'M', 'M', 'M', 'M', 'M', 'M', 'M', 'M', 'M', 'M', 'M', 'M', 'M', 'M', 'M', 'M', 'M', 'M', 'M', 'M', 'M', 'M', 'M', 'M', 'M', 'M', 'M', 'M', 'M', 'M', 'M', 'M', 'M', 'M', 'M', 'M', 'M', 'M', 'M', 'M', 'M', 'M', 'M', 'M', 'M', 'M', 'M', 'M', 'M', 'M', 'i', 'i', 'i', 'i', 'i', 'i', 'i', 'i', 'i', 'i', 'i', 'M', 'M', 'M', 'M', 'M', 'M', 'M', 'M', 'M', 'M', 'M', 'M', 'M', 'M', 'M', 'M', 'M', 'M', 'M', 'M', 'M', 'M', 'M', 'M', 'M', 'M', 'M', 'M', 'M', 'M', 'M', 'M', 'M', 'M', 'M', 'M', 'M', 'M', 'M', 'M', 'M', 'M', 'M', 'M', 'M', 'M', 'M', 'M', 'M', 'M', 'M', 'M', 'M', 'M', 'M', 'M', 'M', 'M', 'M', 'M', 'M', 'M', 'M', 'M', 'M', 'M', 'M', 'M', 'M', 'M', 'M', 'M', 'M', 'M', 'M', 'M', 'M', 'M', 'M', 'M', 'M', 'M', 'M', 'M', 'M', 'M', 'M', 'M', 'M', 'M', 'M', 'M', 'M', 'M', 'M', 'M', 'M', 'M', 'M', 'M', 'M', 'M', 'M', 'M', 'M', 'M', 'M', 'M', 'M', 'M', 'M', 'M', 'M', 'M', 'M', 'M', 'M', 'M', 'M', 'M', 'M', 'M', 'M', 'M', 'M', 'M', 'M', 'M', 'M', 'M', 'M', 'i', 'i', 'i', 'i', 'i', 'i', 'i', 'i', 'i', 'i', 'i', 'i', 'i', 'i', 'i', 'M', 'M', 'M', 'M', 'M', 'M', 'M', 'M', 'M', 'M', 'M', 'M', 'M', 'M', 'M', 'M', 'M', 'M', 'M', 'M', 'M', 'M', 'M', 'M', 'i', 'i', 'i', 'i', 'i', 'i', 'i', 'i', 'i', 'i', 'i', 'i', 'i', 'i', 'M', 'M', 'M', 'M', 'M', 'M', 'M', 'M', 'M', 'M', 'M', 'M', 'M', 'M', 'M', 'M', 'M', 'M', 'M', 'M', 'M', 'M', 'M', 'M', 'M', 'M', 'M', 'i', 'i', 'i', 'i', 'i', 'i', 'i', 'i', 'i', 'i', 'i', 'i', 'i', 'i', 'i', 'i', 'i', 'i', 'i', 'i', 'i', 'i', 'i', 'i', 'i', 'i', 'i', 'i', 'i', 'i', 'i', 'i', 'i', 'i', 'i', 'i', 'i', 'i', 'i', 'i', 'i', 'i', 'i', 'i', 'i', 'i', 'i', 'i', 'i', 'i', 'i', 'i', 'i', 'i', 'i', 'i', 'i', 'i', 'i', 'i', 'i', 'i', 'i', 'i', 'i', 'i', 'i', 'i', 'i', 'M', 'M', 'M', 'M', 'M', 'M', 'M', 'M', 'M', 'M', 'M', 'M', 'M', 'M', 'M', 'M', 'M', 'M', 'M', 'M', 'M', 'M', 'M', 'M', 'M', 'M', 'M', 'M', 'M', 'M', 'M', 'M', 'M', 'M', 'M', 'M', 'M', 'M', 'i', 'i', 'i', 'i', 'i', 'i', 'i', 'i', 'i', 'i', 'i', 'i', 'i', 'i', 'i', 'i', 'i', 'i', 'i', 'i', 'i', 'i', 'i', 'i', 'i', 'i', 'i', 'i', 'i', 'i', 'i', 'i', 'i', 'i', 'i', 'i']"
   ]
  },
  {
   "cell_type": "code",
   "execution_count": 6,
   "metadata": {},
   "outputs": [
    {
     "name": "stdout",
     "output_type": "stream",
     "text": [
      "627\n"
     ]
    }
   ],
   "source": [
    "for i in range(len(ans)):\n",
    "    if ans[i] != truth[i]:\n",
    "        print(i)\n",
    "        break"
   ]
  }
 ],
 "metadata": {
  "kernelspec": {
   "display_name": "base",
   "language": "python",
   "name": "python3"
  },
  "language_info": {
   "codemirror_mode": {
    "name": "ipython",
    "version": 3
   },
   "file_extension": ".py",
   "mimetype": "text/x-python",
   "name": "python",
   "nbconvert_exporter": "python",
   "pygments_lexer": "ipython3",
   "version": "3.11.5"
  }
 },
 "nbformat": 4,
 "nbformat_minor": 2
}
